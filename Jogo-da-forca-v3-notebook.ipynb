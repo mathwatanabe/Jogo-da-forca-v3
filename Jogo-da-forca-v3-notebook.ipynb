{
 "cells": [
  {
   "cell_type": "markdown",
   "metadata": {},
   "source": [
    "<h1> <b> <font color=\"#8a0e0e\"> Jogo da Forca versão 3 </font> </b> </h1>"
   ]
  },
  {
   "cell_type": "markdown",
   "metadata": {},
   "source": [
    "<h2><font color='#8a4a0e'>Objetivo</font></h2>"
   ]
  },
  {
   "cell_type": "markdown",
   "metadata": {},
   "source": [
    "O objetivo do presente projeto foi o desenvolvimento de um jogo da forca simples com uma espécie de tabuleiro definido e o conceito de Classes Python. O intuito principal do trabalho foi o aprimoramento e aprofundamento na prática de conceitos e técnicas da linguagem Python. Um conceito importante foi a utilização do pacote <code>random</code> e o aprofundamento na construção de funções. Dessa forma, o foco do projeto não foi a construção de um código otimizado, com menor tempo de execução ou simplificação, mas sim para o aperfeiçoamento e desenvolvimento de habilidades e competências referentes à linguagem Python."
   ]
  },
  {
   "cell_type": "markdown",
   "metadata": {},
   "source": [
    "<h2><font color='#8a4a0e'>Ferramentas Utilizadas</font></h2>"
   ]
  },
  {
   "cell_type": "markdown",
   "metadata": {},
   "source": [
    "Python 3.9.13"
   ]
  },
  {
   "cell_type": "markdown",
   "metadata": {},
   "source": [
    "<h2> <font color='#8a4a0e'> Desenvolvimento do código </font> </h2>"
   ]
  },
  {
   "cell_type": "markdown",
   "metadata": {},
   "source": [
    "<b>O primeiro passo do projeto foi a montagem do código do jogo em si.</b>\n",
    "\n",
    "<b>Primeiramente, as bibliotecas que foram utilizadas neste projeto foram importadas. A <code>random</code> foi utilizada para selecionar elementos aleatórios em objeto definido. Nesse caso, ela foi utilizada para escolher aleatoriamente uma palavra de uma lista de palavras. </b>"
   ]
  },
  {
   "cell_type": "code",
   "execution_count": null,
   "metadata": {},
   "outputs": [],
   "source": [
    "import random\n",
    "from os import system, name"
   ]
  },
  {
   "cell_type": "markdown",
   "metadata": {},
   "source": [
    "<b>Para iniciar, foi criado um bloco de código para realizar a limpeza de tela a cada execução do programa.</b>"
   ]
  },
  {
   "cell_type": "code",
   "execution_count": null,
   "metadata": {},
   "outputs": [],
   "source": [
    "def limpa_tela():\n",
    "    if name == 'nt':\n",
    "        _ = system('cls')\n",
    "    else:\n",
    "        _ = system('clear')"
   ]
  },
  {
   "cell_type": "markdown",
   "metadata": {},
   "source": [
    "<b>Foi definida uma variável para guardar cada um dos estágios do tabuleiro chamado de board no código.</b>"
   ]
  },
  {
   "cell_type": "code",
   "execution_count": null,
   "metadata": {},
   "outputs": [],
   "source": [
    "board = ['''\n",
    "\n",
    ">>>>>>>>>>Hangman<<<<<<<<<<\n",
    "\n",
    "+---+\n",
    "|   |\n",
    "    |\n",
    "    |\n",
    "    |\n",
    "    |\n",
    "=========''', '''\n",
    "\n",
    "+---+\n",
    "|   |\n",
    "O   |\n",
    "    |\n",
    "    |\n",
    "    |\n",
    "=========''', '''\n",
    "\n",
    "+---+\n",
    "|   |\n",
    "O   |\n",
    "|   |\n",
    "    |\n",
    "    |\n",
    "=========''', '''\n",
    "\n",
    " +---+\n",
    " |   |\n",
    " O   |\n",
    "/|   |\n",
    "     |\n",
    "     |\n",
    "=========''', '''\n",
    "\n",
    " +---+\n",
    " |   |\n",
    " O   |\n",
    "/|\\  |\n",
    "     |\n",
    "     |\n",
    "=========''', '''\n",
    "\n",
    " +---+\n",
    " |   |\n",
    " O   |\n",
    "/|\\  |\n",
    "/    |\n",
    "     |\n",
    "=========''', '''\n",
    "\n",
    " +---+\n",
    " |   |\n",
    " O   |\n",
    "/|\\  |\n",
    "/ \\  |\n",
    "     |\n",
    "=========''']"
   ]
  },
  {
   "cell_type": "markdown",
   "metadata": {},
   "source": [
    "<b>Com o tabuleiro definido, seguiu-se para a principal parte do projeto, a criação de uma <code>Class</code> capaz de guardar métodos e atributos relacionados ao jogo da forca. A primeira parte foi realizar o método construtor <code>init</code>, definindo alguns atributos da classe <code>Hangman()</code>.</b>"
   ]
  },
  {
   "cell_type": "code",
   "execution_count": 1,
   "metadata": {},
   "outputs": [],
   "source": [
    "class Hangman():\n",
    "    #Método construtor da classe é inicializado\n",
    "    def __init__(self,palavra):\n",
    "        self.palavra = palavra\n",
    "        self.gabarito = []\n",
    "        self.letras_erradas = []\n",
    "        #Definição do número fixo de tentativas\n",
    "        self.tentativas = 7\n",
    "        self.num = 0"
   ]
  },
  {
   "cell_type": "markdown",
   "metadata": {},
   "source": [
    "<b>Depois foi criado um método da classe <code>Hangman()</code> responsável por criar um gabarito constituído pelo caracter '_' no lugar das letras a serem adivinhadas.</b>"
   ]
  },
  {
   "cell_type": "code",
   "execution_count": 2,
   "metadata": {},
   "outputs": [],
   "source": [
    "class Hangman():\n",
    "    def gabarit(self):\n",
    "        self.palavra\n",
    "        for i in self.palavra:\n",
    "            self.gabarito.append('_')\n",
    "        return self.gabarito"
   ]
  },
  {
   "cell_type": "markdown",
   "metadata": {},
   "source": [
    "<b>Outro método foi definido na classe para que quando chamado ele fosse capaz de pedir uma letra ao usuário e verificar se ela se encontrava na palavra, caso estivesse ela substituiria o caracter '_' pela respectiva letra na respectiva posição. Caso contrário, se a letra não fosse encontrada na palavra a ser adivinhada, o número de tentativas seria reduzido pelo valor de 1 e o a posição do tabuleiro avançaria o índice em 1.</b>"
   ]
  },
  {
   "cell_type": "code",
   "execution_count": null,
   "metadata": {},
   "outputs": [],
   "source": [
    "class Hangman():\n",
    "    def adivinhar_letra(self):\n",
    "        #Pedir a inserção de uma letra a ser testada\n",
    "        letra = input('Insira uma letra: ')\n",
    "        if letra in self.palavra:\n",
    "            for i in range(0,len(self.palavra)):\n",
    "                #Inserir a letra correta no gabarito\n",
    "                if letra == self.palavra[i]:\n",
    "                    self.gabarito[i] = letra\n",
    "        elif letra in self.letras_erradas:\n",
    "            return\n",
    "        #Caso a letra estivesse incorreta\n",
    "        else:\n",
    "            self.tentativas -= 1\n",
    "            #Alterando o estado do tabuleiro\n",
    "            self.num += 1\n",
    "            self.letras_erradas.append(letra)\n",
    "            return"
   ]
  },
  {
   "cell_type": "markdown",
   "metadata": {},
   "source": [
    "<b>Foi criado um método para verificar o estado do jogo e outro para verificar se o jogador ganhou ou perdeu.</b>"
   ]
  },
  {
   "cell_type": "code",
   "execution_count": null,
   "metadata": {},
   "outputs": [],
   "source": [
    "class Hangman():\n",
    "    def status(self):\n",
    "        n_jogando = False\n",
    "        #Verificar se existe o caracter '_' no gabarito ou se existem tentativas restantes\n",
    "        if self.gabarito.count('_') != 0 and self.tentativas != 0:\n",
    "            pass\n",
    "        else:\n",
    "            n_jogando = True\n",
    "        return n_jogando\n",
    "    def won_lose(self):\n",
    "        #Condicional caso o usuário ganhe\n",
    "        if self.gabarito.count('_') == 0:\n",
    "            print(f'---------\\nVocê ganhou! A resposta era {self.palavra}')\n",
    "        #Condicional caso o usuário perca\n",
    "        elif self.tentativas == 0:\n",
    "            print(f'---------\\nVocê perdeu! A resposta era {self.palavra}')\n",
    "        return"
   ]
  },
  {
   "cell_type": "markdown",
   "metadata": {},
   "source": [
    "<b>Para mostrar a situação do tabuleiro para o usuário, o método abaixo foi criado. Nele, a variável \"num\" define qual situação do tabuleiro.</b>"
   ]
  },
  {
   "cell_type": "code",
   "execution_count": null,
   "metadata": {},
   "outputs": [],
   "source": [
    "class Hangman():    \n",
    "    def board_print(self):\n",
    "        print(board[self.num])\n",
    "        print(' '.join(self.gabarito))\n",
    "        print(f'Você ainda tem {self.tentativas} tentativas')\n",
    "        print('Letras erradas:',' '.join(self.letras_erradas))"
   ]
  },
  {
   "cell_type": "markdown",
   "metadata": {},
   "source": [
    "<b>Com todos os métodos e atributos da classe <code>Hangman()</code> criados, foi criada uma função para selecionar aleatoriamente uma palavra de uma lista de frutas definidas.</b>"
   ]
  },
  {
   "cell_type": "code",
   "execution_count": null,
   "metadata": {},
   "outputs": [],
   "source": [
    "def escolher_palavra():\n",
    "    lista = ['banana','maça','abacaxi','maracuja','morango']\n",
    "    palavra = random.choice(lista)\n",
    "    return palavra"
   ]
  },
  {
   "cell_type": "markdown",
   "metadata": {},
   "source": [
    "<b>Com todos os blocos necessários finalizados, o próximo passo foi a construção da ordem que seria executado cada método e função. Primeiro, criou-se um objeto da classe <code>Hangman()</code> chamado de <code>game</code>, com o atributo definido pela função <code>escolher_palavra()</code>. Essa palavra aleatória definida por essa função foi a palavra a ser adivinhada. Depois o método <code>gabarit()</code> foi chamado para criar o gabarito, segundo a palavra escolhida. O loop seguinte foi usado para checar o status do jogo pelo método <code>status()</code>, o qual serviu para verificar o número de tentativas restantes e a quantidade de caracteres '_' existentes no gabarito. Dentro do loop, os métodos <code>board_print()</code> e <code>adivinhar_letra()</code> foram utilizados para mostrar o tabuleiro e para pedir que o usuário inserisse a letra e o programa checasse a existência dela na palavra a ser adivinhada. Com a finalização do loop, o último método chamado serviu para verificar se o usuário ganhou ou perdeu.</b>"
   ]
  },
  {
   "cell_type": "code",
   "execution_count": null,
   "metadata": {},
   "outputs": [],
   "source": [
    "def main():\n",
    "    game = Hangman(escolher_palavra())\n",
    "    game.gabarit()\n",
    "    while not game.status():\n",
    "        game.board_print()\n",
    "        game.adivinhar_letra()\n",
    "    game.won_lose()\n",
    "    \n",
    "if __name__ == '__main__':\n",
    "    main()"
   ]
  }
 ],
 "metadata": {
  "kernelspec": {
   "display_name": "myenv",
   "language": "python",
   "name": "python3"
  },
  "language_info": {
   "codemirror_mode": {
    "name": "ipython",
    "version": 3
   },
   "file_extension": ".py",
   "mimetype": "text/x-python",
   "name": "python",
   "nbconvert_exporter": "python",
   "pygments_lexer": "ipython3",
   "version": "3.10.13"
  }
 },
 "nbformat": 4,
 "nbformat_minor": 2
}
